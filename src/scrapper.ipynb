{
 "cells": [
  {
   "cell_type": "code",
   "execution_count": 1,
   "id": "77c22dcc",
   "metadata": {},
   "outputs": [],
   "source": [
    "import os\n",
    "import requests\n",
    "import json\n",
    "import pandas as pd\n",
    "from dotenv import load_dotenv\n",
    "\n",
    "\n",
    "load_dotenv()\n",
    "github_key = os.getenv(\"GITHUB_KEY\")"
   ]
  },
  {
   "cell_type": "code",
   "execution_count": null,
   "id": "4a840ed7",
   "metadata": {},
   "outputs": [],
   "source": [
    "#Get starred \n",
    "owner = \"rust-lang\"\n",
    "repo = \"rust\"\n",
    "\n",
    "headers = {\n",
    "        \"Accept\": \"application/vnd.github+json\",\n",
    "        \"Authorization\": f\"Bearer {github_key}\"\n",
    "    }\n",
    "\n",
    "base_url = \"https://api.github.com\"\n",
    "git_starring = f\"/repos/{owner}/{repo}/stargazers\"\n",
    "url = base_url + git_starring\n",
    "\n",
    "all_results = []\n",
    "num_pages_requested = 0\n",
    "\n",
    "while url and num_pages_requested < 400:\n",
    "        num_pages_requested += 1\n",
    "        response = requests.get(url, headers=headers)\n",
    "\n",
    "        if response.status_code == 200:\n",
    "            print(response.headers.get(\"Link\", \"\"))\n",
    "            data = response.json()\n",
    "            \n",
    "            all_results.extend(data)\n",
    "\n",
    "            link_header = response.headers.get(\"Link\", \"\")\n",
    "            next_url = None\n",
    "            for link in link_header.split(\",\"):\n",
    "                if 'rel=\"next\"' in link:\n",
    "                    next_url = link[link.find(\"<\")+1:link.find(\">\")]\n",
    "                    break\n",
    "\n",
    "            url = next_url\n",
    "            \n",
    "        elif response.status_code == 202:\n",
    "            print(\"Compiling data, try again shortly\")\n",
    "            break\n",
    "        else:\n",
    "            print(f\"Error: {response.status_code}\")\n",
    "            break\n",
    "\n",
    "    # parsing\n",
    "df = pd.json_normalize(\n",
    "        all_results, \n",
    "        record_path=None, \n",
    "        meta=None, \n",
    "        errors='ignore'\n",
    "    )\n",
    "    # getting what I need\n",
    "df.head()\n",
    "df.to_csv(\"rust_stars.csv\", index=False)"
   ]
  },
  {
   "cell_type": "code",
   "execution_count": null,
   "id": "f99535cb",
   "metadata": {},
   "outputs": [],
   "source": []
  }
 ],
 "metadata": {
  "kernelspec": {
   "display_name": "Python 3",
   "language": "python",
   "name": "python3"
  },
  "language_info": {
   "codemirror_mode": {
    "name": "ipython",
    "version": 3
   },
   "file_extension": ".py",
   "mimetype": "text/x-python",
   "name": "python",
   "nbconvert_exporter": "python",
   "pygments_lexer": "ipython3",
   "version": "3.10.12"
  }
 },
 "nbformat": 4,
 "nbformat_minor": 5
}
