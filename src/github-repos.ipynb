{
 "cells": [
  {
   "metadata": {},
   "cell_type": "code",
   "outputs": [],
   "execution_count": null,
   "source": [
    "import pandas as pd\n",
    "import numpy as np\n",
    "import requests\n"
   ],
   "id": "7318a25732d11240"
  },
  {
   "metadata": {},
   "cell_type": "code",
   "outputs": [],
   "execution_count": null,
   "source": [
    "df = pd.read_csv('../data/user_repos.csv')\n",
    "df.head()"
   ],
   "id": "8d2f1ec9ac848bba"
  },
  {
   "metadata": {},
   "cell_type": "code",
   "outputs": [],
   "execution_count": null,
   "source": [
    "# numero promedio de branches per repo\n",
    "df['branches_url'].count()\n",
    "\n",
    "#https://api.github.com/repos/topfunky/basic_model/branches{/branch}\n"
   ],
   "id": "591fb08c709edc2c"
  },
  {
   "metadata": {},
   "cell_type": "code",
   "outputs": [],
   "execution_count": null,
   "source": [
    "reposAndBranchesQuantity = []\n",
    "for index, row in df.iterrows():\n",
    "    # print(row['branches_url'])\n",
    "    headers  = \"\"\n",
    "    url = row['branches_url'].replace('{/branch}', '')\n",
    "    response = requests.get(url, headers=headers)\n",
    "    branches = response.json()\n",
    "    reposAndBranchesQuantity.append({\n",
    "        'repo': row['name'],\n",
    "        'branches': len(branches)\n",
    "    })\n"
   ],
   "id": "18d827244cb6bbc1"
  },
  {
   "metadata": {},
   "cell_type": "code",
   "outputs": [],
   "execution_count": null,
   "source": [
    "df = pd.DataFrame(reposAndBranchesQuantity)\n",
    "df"
   ],
   "id": "2c3e619bb12c12a1"
  }
 ],
 "metadata": {},
 "nbformat": 5,
 "nbformat_minor": 9
}
